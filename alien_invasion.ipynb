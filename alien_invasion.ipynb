{
  "nbformat": 4,
  "nbformat_minor": 0,
  "metadata": {
    "colab": {
      "provenance": [],
      "authorship_tag": "ABX9TyPwlAqLrHH0zptZR4tSqt4V",
      "include_colab_link": true
    },
    "kernelspec": {
      "name": "python3",
      "display_name": "Python 3"
    },
    "language_info": {
      "name": "python"
    }
  },
  "cells": [
    {
      "cell_type": "markdown",
      "metadata": {
        "id": "view-in-github",
        "colab_type": "text"
      },
      "source": [
        "<a href=\"https://colab.research.google.com/github/christopheragonzales/covid19_analysis/blob/main/alien_invasion.ipynb\" target=\"_parent\"><img src=\"https://colab.research.google.com/assets/colab-badge.svg\" alt=\"Open In Colab\"/></a>"
      ]
    },
    {
      "cell_type": "code",
      "execution_count": 2,
      "metadata": {
        "id": "f1oNgAstJsqK"
      },
      "outputs": [],
      "source": [
        "import sys\n",
        "import pygame"
      ]
    },
    {
      "cell_type": "code",
      "source": [
        "class AlienInvasion:\n",
        "    \"\"\"Overall class to manage game assets and behavior.\"\"\"\n",
        "\n",
        "    def __init__(self):\n",
        "        \"\"\"Initialize the game, and create game resources.\"\"\"\n",
        "        pygame.init()\n",
        "\n",
        "        self.screen = pygame.display.set_mode((1200, 800))\n",
        "        pygame.display.set_caption(\"Alien Invasion\")\n",
        "\n",
        "        def run_game(self):\n",
        "            \"\"\"Start the main loop for the game.\"\"\"\n",
        "            while True:\n",
        "                # Watch for keyboard and mouse events.\n",
        "                for event in pygame.event.get():\n",
        "                    if event.type == pygame.QUIT:\n",
        "                        sys.exit()\n",
        "\n",
        "                # Make the most recently drawn screen visible\n",
        "                pygame.display.flip()\n",
        "\n",
        "if __name__ == '__main__':\n",
        "    # Make a game instance, and run the game.\n",
        "    ai = AlienInvasion()\n",
        "    ai.run_game()"
      ],
      "metadata": {
        "id": "_bcacyYUJ8In"
      },
      "execution_count": null,
      "outputs": []
    }
  ]
}